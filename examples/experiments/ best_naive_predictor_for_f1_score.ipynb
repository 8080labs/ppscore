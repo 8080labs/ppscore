{
 "cells": [
  {
   "cell_type": "markdown",
   "metadata": {},
   "source": [
    "## Determining the best naive predictor for the f1 score\n",
    "- If there are 2 classes that are skewed, then the most common value is often slightly better than the random guess\n",
    "- If there are 4 classes that are skewed, then the random value is often slightly better than the most common value\n",
    "- If the classes (2 or 4) are balanced, then the random guess is usually significantly better than the most common value.\n",
    "\n",
    "Summing up, random values are usually preferred over the most common value.\n",
    "\n",
    "However, the best baseline is the maximum of the f1_score of the most common value and random values."
   ]
  },
  {
   "cell_type": "code",
   "execution_count": null,
   "metadata": {},
   "outputs": [],
   "source": [
    "import numpy as np\n",
    "import pandas as pd\n",
    "from sklearn.metrics import f1_score"
   ]
  },
  {
   "cell_type": "code",
   "execution_count": null,
   "metadata": {},
   "outputs": [],
   "source": [
    "df = pd.DataFrame(\n",
    "{\n",
    "    'boolean_equal': np.random.choice(['yes', 'no'],1000),\n",
    "    'boolean_skewed': np.random.choice(['yes', 'yes', 'yes', 'no'],1000),\n",
    "    'multicat_equal': np.random.choice(['cat1', 'cat2', 'cat3', 'cat4'],1000),\n",
    "    'multicat_skewed': np.random.choice(['cat1', 'cat1', 'cat1', 'cat1', 'cat2', 'cat2', 'cat3', 'cat4'],1000),\n",
    "}\n",
    ")"
   ]
  },
  {
   "cell_type": "code",
   "execution_count": null,
   "metadata": {},
   "outputs": [],
   "source": [
    "def f1_score_most_common(series, value):\n",
    "    return f1_score(series, np.random.choice([value], 1000), average=\"weighted\")"
   ]
  },
  {
   "cell_type": "code",
   "execution_count": null,
   "metadata": {},
   "outputs": [],
   "source": [
    "def f1_score_random(series):\n",
    "    return f1_score(series, series.sample(frac=1), average=\"weighted\")"
   ]
  },
  {
   "cell_type": "markdown",
   "metadata": {},
   "source": [
    "### Boolean equal\n",
    "- Random is better than most common"
   ]
  },
  {
   "cell_type": "code",
   "execution_count": null,
   "metadata": {},
   "outputs": [],
   "source": [
    "f1_score_most_common(df[\"boolean_equal\"], \"yes\")"
   ]
  },
  {
   "cell_type": "code",
   "execution_count": null,
   "metadata": {},
   "outputs": [],
   "source": [
    "f1_score_random(df[\"boolean_equal\"])"
   ]
  },
  {
   "cell_type": "markdown",
   "metadata": {},
   "source": [
    "### Boolean skewed\n",
    "- Most common is usually better than random but they are in the same ball park"
   ]
  },
  {
   "cell_type": "code",
   "execution_count": null,
   "metadata": {},
   "outputs": [],
   "source": [
    "f1_score_most_common(df[\"boolean_skewed\"], \"yes\")"
   ]
  },
  {
   "cell_type": "code",
   "execution_count": null,
   "metadata": {},
   "outputs": [],
   "source": [
    "f1_score_random(df[\"boolean_skewed\"])"
   ]
  },
  {
   "cell_type": "markdown",
   "metadata": {},
   "source": [
    "### Multicat equal\n",
    "- Random is better than most common"
   ]
  },
  {
   "cell_type": "code",
   "execution_count": null,
   "metadata": {},
   "outputs": [],
   "source": [
    "f1_score_most_common(df[\"multicat_equal\"], \"cat1\")"
   ]
  },
  {
   "cell_type": "code",
   "execution_count": null,
   "metadata": {},
   "outputs": [],
   "source": [
    "f1_score_random(df[\"multicat_equal\"])"
   ]
  },
  {
   "cell_type": "markdown",
   "metadata": {},
   "source": [
    "### Multicat skewed\n",
    "- Random is usually better than most common but they are in the same ballpark"
   ]
  },
  {
   "cell_type": "code",
   "execution_count": null,
   "metadata": {},
   "outputs": [],
   "source": [
    "f1_score_most_common(df[\"multicat_skewed\"], \"cat1\")"
   ]
  },
  {
   "cell_type": "code",
   "execution_count": null,
   "metadata": {},
   "outputs": [],
   "source": [
    "f1_score_random(df[\"multicat_skewed\"])"
   ]
  }
 ],
 "metadata": {
  "jupytext": {
   "cell_metadata_filter": "-all",
   "notebook_metadata_filter": "-all"
  },
  "kernelspec": {
   "display_name": "Python 3",
   "language": "python",
   "name": "python3"
  },
  "language_info": {
   "codemirror_mode": {
    "name": "ipython",
    "version": 3
   },
   "file_extension": ".py",
   "mimetype": "text/x-python",
   "name": "python",
   "nbconvert_exporter": "python",
   "pygments_lexer": "ipython3",
   "version": "3.7.7"
  }
 },
 "nbformat": 4,
 "nbformat_minor": 2
}
