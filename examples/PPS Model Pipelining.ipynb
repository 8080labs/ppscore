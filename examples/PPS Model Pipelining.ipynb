{
  "cells":[
    {
      "cell_type":"markdown",
      "source":[
        "This notebook illustrated the difference in predictive power score for non-transformed data and transformed data and the use of the pipelines with PPS.\n",
        "\n",
        "As stated in the [scikit-learn documentation](https:\/\/scikit-learn.org\/stable\/auto_examples\/preprocessing\/plot_all_scaling.html) unscaled data and the presence of very large outliers can degrade the predictive performance and the speed of machine learning algorithms. The pps module allows for the transformation of data using a pipeline approach to prevent data leakeage into cross validation."
      ],
      "metadata":{
        
      }
    },
    {
      "cell_type":"markdown",
      "source":[
        "The following modules are required:"
      ],
      "metadata":{
        
      }
    },
    {
      "cell_type":"code",
      "source":[
        "import pps as pps\n",
        "import pandas as pd\n",
        "import numpy as np"
      ],
      "execution_count":3,
      "outputs":[
        
      ],
      "metadata":{
        
      }
    },
    {
      "cell_type":"markdown",
      "source":[
        "The following data transformers are used to illustrate the difference in predictive power score of raw data and transformed data:"
      ],
      "metadata":{
        
      }
    },
    {
      "cell_type":"code",
      "source":[
        "from sklearn.preprocessing import MinMaxScaler\n",
        "from sklearn.preprocessing import minmax_scale\n",
        "from sklearn.preprocessing import MaxAbsScaler\n",
        "from sklearn.preprocessing import StandardScaler"
      ],
      "execution_count":4,
      "outputs":[
        
      ],
      "metadata":{
        
      }
    },
    {
      "cell_type":"markdown",
      "source":[
        "The breast cancer dataset is imported and loaded into a dataframe to allow interfacing with pps predictors method."
      ],
      "metadata":{
        
      }
    },
    {
      "cell_type":"code",
      "source":[
        "import sklearn.datasets as data_sets\n",
        "dataset = data_sets.load_breast_cancer()\n",
        "X_full, y_full = dataset.data, dataset.target\n",
        "dataset\n",
        "data= np.c_[dataset['data'], dataset['target']]\n",
        "names = [str(name) for name in dataset['feature_names']]\n",
        "data = pd.DataFrame(data, columns= names + ['target'])"
      ],
      "execution_count":6,
      "outputs":[
        
      ],
      "metadata":{
        
      }
    },
    {
      "cell_type":"markdown",
      "source":[
        "The top 5 predictors by pps score using raw data are:"
      ],
      "metadata":{
        
      }
    },
    {
      "cell_type":"code",
      "source":[
        "pps.predictors(data, 'target')[['x','y','ppscore']].head()"
      ],
      "execution_count":13,
      "outputs":[
        {
          "data":{
            "text\/html":[
              "<div>\n",
              "<style scoped>\n",
              "    .dataframe tbody tr th:only-of-type {\n",
              "        vertical-align: middle;\n",
              "    }\n",
              "\n",
              "    .dataframe tbody tr th {\n",
              "        vertical-align: top;\n",
              "    }\n",
              "\n",
              "    .dataframe thead th {\n",
              "        text-align: right;\n",
              "    }\n",
              "<\/style>\n",
              "<table border=\"1\" class=\"dataframe\">\n",
              "  <thead>\n",
              "    <tr style=\"text-align: right;\">\n",
              "      <th><\/th>\n",
              "      <th>x<\/th>\n",
              "      <th>y<\/th>\n",
              "      <th>ppscore<\/th>\n",
              "    <\/tr>\n",
              "  <\/thead>\n",
              "  <tbody>\n",
              "    <tr>\n",
              "      <th>0<\/th>\n",
              "      <td>worst concave points<\/td>\n",
              "      <td>target<\/td>\n",
              "      <td>0.698810<\/td>\n",
              "    <\/tr>\n",
              "    <tr>\n",
              "      <th>1<\/th>\n",
              "      <td>worst area<\/td>\n",
              "      <td>target<\/td>\n",
              "      <td>0.662555<\/td>\n",
              "    <\/tr>\n",
              "    <tr>\n",
              "      <th>2<\/th>\n",
              "      <td>worst perimeter<\/td>\n",
              "      <td>target<\/td>\n",
              "      <td>0.661030<\/td>\n",
              "    <\/tr>\n",
              "    <tr>\n",
              "      <th>3<\/th>\n",
              "      <td>worst radius<\/td>\n",
              "      <td>target<\/td>\n",
              "      <td>0.657945<\/td>\n",
              "    <\/tr>\n",
              "    <tr>\n",
              "      <th>4<\/th>\n",
              "      <td>mean concave points<\/td>\n",
              "      <td>target<\/td>\n",
              "      <td>0.643770<\/td>\n",
              "    <\/tr>\n",
              "  <\/tbody>\n",
              "<\/table>\n",
              "<\/div>"
            ]
          },
          "metadata":{
            
          },
          "output_type":"display_data"
        }
      ],
      "metadata":{
        
      }
    },
    {
      "cell_type":"markdown",
      "source":[
        "Using MinMax, Standard and MaxAbs scalers to transform data before calculating the predictive power score yields a different ranking of predictive scores; \"worst area\" and \"worst radius\" features exchange positions in the ranking."
      ],
      "metadata":{
        
      }
    },
    {
      "cell_type":"code",
      "source":[
        "pipeline = [MinMaxScaler(), StandardScaler(), MaxAbsScaler()]\n",
        "pps.predictors(data, 'target', pipeline=pipeline)[['x','y','ppscore']].head()"
      ],
      "execution_count":14,
      "outputs":[
        {
          "data":{
            "text\/html":[
              "<div>\n",
              "<style scoped>\n",
              "    .dataframe tbody tr th:only-of-type {\n",
              "        vertical-align: middle;\n",
              "    }\n",
              "\n",
              "    .dataframe tbody tr th {\n",
              "        vertical-align: top;\n",
              "    }\n",
              "\n",
              "    .dataframe thead th {\n",
              "        text-align: right;\n",
              "    }\n",
              "<\/style>\n",
              "<table border=\"1\" class=\"dataframe\">\n",
              "  <thead>\n",
              "    <tr style=\"text-align: right;\">\n",
              "      <th><\/th>\n",
              "      <th>x<\/th>\n",
              "      <th>y<\/th>\n",
              "      <th>ppscore<\/th>\n",
              "    <\/tr>\n",
              "  <\/thead>\n",
              "  <tbody>\n",
              "    <tr>\n",
              "      <th>0<\/th>\n",
              "      <td>worst concave points<\/td>\n",
              "      <td>target<\/td>\n",
              "      <td>0.694085<\/td>\n",
              "    <\/tr>\n",
              "    <tr>\n",
              "      <th>1<\/th>\n",
              "      <td>worst radius<\/td>\n",
              "      <td>target<\/td>\n",
              "      <td>0.667363<\/td>\n",
              "    <\/tr>\n",
              "    <tr>\n",
              "      <th>2<\/th>\n",
              "      <td>worst perimeter<\/td>\n",
              "      <td>target<\/td>\n",
              "      <td>0.665755<\/td>\n",
              "    <\/tr>\n",
              "    <tr>\n",
              "      <th>3<\/th>\n",
              "      <td>worst area<\/td>\n",
              "      <td>target<\/td>\n",
              "      <td>0.662555<\/td>\n",
              "    <\/tr>\n",
              "    <tr>\n",
              "      <th>4<\/th>\n",
              "      <td>mean concave points<\/td>\n",
              "      <td>target<\/td>\n",
              "      <td>0.643770<\/td>\n",
              "    <\/tr>\n",
              "  <\/tbody>\n",
              "<\/table>\n",
              "<\/div>"
            ]
          },
          "metadata":{
            
          },
          "output_type":"display_data"
        }
      ],
      "metadata":{
        
      }
    },
    {
      "cell_type":"code",
      "source":[
        
      ],
      "execution_count":0,
      "outputs":[
        
      ],
      "metadata":{
        
      }
    },
    {
      "cell_type":"code",
      "source":[
        
      ],
      "execution_count":0,
      "outputs":[
        
      ],
      "metadata":{
        
      }
    }
  ],
  "metadata":{
    
  },
  "nbformat":4,
  "nbformat_minor":0
}